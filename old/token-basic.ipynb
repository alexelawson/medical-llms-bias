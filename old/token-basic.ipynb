{
 "cells": [
  {
   "cell_type": "code",
   "execution_count": null,
   "metadata": {},
   "outputs": [
    {
     "data": {
      "application/vnd.jupyter.widget-view+json": {
       "model_id": "e9a6e573edb44bdfbb2cf0ee24eeedd8",
       "version_major": 2,
       "version_minor": 0
      },
      "text/plain": [
       "Processing combinations:   0%|          | 0/4 [00:00<?, ?it/s]"
      ]
     },
     "metadata": {},
     "output_type": "display_data"
    },
    {
     "name": "stdout",
     "output_type": "stream",
     "text": [
      "\u001b[48;2;255;255;255mThe\u001b[0m \u001b[48;2;255;255;202mgirl\u001b[0m \u001b[48;2;255;255;0mwas\u001b[0m \u001b[48;2;255;255;126manxious.\u001b[0m \n"
     ]
    }
   ],
   "source": [
    "# Import TokenSHAP\n",
    "from token_shap import *\n",
    "from huggingface_hub import login\n",
    "\n",
    "login(token=\"blank\")\n",
    "\n",
    "model_name_or_path = \"meta-llama/Llama-3.2-1B\"\n",
    "model = LocalModel(model_name_or_path)\n",
    "splitter = StringSplitter()\n",
    "token_shap = TokenSHAP(model, splitter)\n",
    "\n",
    "# Analyze token importance\n",
    "prompt = \"The girl was anxious.\"\n",
    "df = token_shap.analyze(prompt, sampling_ratio=0.2, print_highlight_text=True)"
   ]
  },
  {
   "cell_type": "code",
   "execution_count": 4,
   "metadata": {},
   "outputs": [
    {
     "data": {
      "image/png": "[encoded data removed]",
      "text/plain": [
       "<Figure size 1000x200 with 2 Axes>"
      ]
     },
     "metadata": {},
     "output_type": "display_data"
    },
    {
     "data": {
      "text/html": [
       "<div>\n",
       "<style scoped>\n",
       "    .dataframe tbody tr th:only-of-type {\n",
       "        vertical-align: middle;\n",
       "    }\n",
       "\n",
       "    .dataframe tbody tr th {\n",
       "        vertical-align: top;\n",
       "    }\n",
       "\n",
       "    .dataframe thead th {\n",
       "        text-align: right;\n",
       "    }\n",
       "</style>\n",
       "<table border=\"1\" class=\"dataframe\">\n",
       "  <thead>\n",
       "    <tr style=\"text-align: right;\">\n",
       "      <th></th>\n",
       "      <th>Prompt</th>\n",
       "      <th>Response</th>\n",
       "      <th>Token_Indexes</th>\n",
       "      <th>Cosine_Similarity</th>\n",
       "    </tr>\n",
       "  </thead>\n",
       "  <tbody>\n",
       "    <tr>\n",
       "      <th>0</th>\n",
       "      <td>girl was anxious.</td>\n",
       "      <td>She was afraid that her father would not be ab...</td>\n",
       "      <td>(2, 3, 4)</td>\n",
       "      <td>0.487625</td>\n",
       "    </tr>\n",
       "    <tr>\n",
       "      <th>1</th>\n",
       "      <td>The was anxious.</td>\n",
       "      <td>He had been to the hospital, and he knew the p...</td>\n",
       "      <td>(1, 3, 4)</td>\n",
       "      <td>0.273146</td>\n",
       "    </tr>\n",
       "    <tr>\n",
       "      <th>2</th>\n",
       "      <td>The girl anxious.</td>\n",
       "      <td>The boy nervous. The couple in love. The coupl...</td>\n",
       "      <td>(1, 2, 4)</td>\n",
       "      <td>0.124479</td>\n",
       "    </tr>\n",
       "    <tr>\n",
       "      <th>3</th>\n",
       "      <td>The girl was</td>\n",
       "      <td>born on April 13, 2016. Her parents are 22-yea...</td>\n",
       "      <td>(1, 2, 3)</td>\n",
       "      <td>0.198365</td>\n",
       "    </tr>\n",
       "  </tbody>\n",
       "</table>\n",
       "</div>"
      ],
      "text/plain": [
       "              Prompt                                           Response  \\\n",
       "0  girl was anxious.  She was afraid that her father would not be ab...   \n",
       "1   The was anxious.  He had been to the hospital, and he knew the p...   \n",
       "2  The girl anxious.  The boy nervous. The couple in love. The coupl...   \n",
       "3       The girl was  born on April 13, 2016. Her parents are 22-yea...   \n",
       "\n",
       "  Token_Indexes  Cosine_Similarity  \n",
       "0     (2, 3, 4)           0.487625  \n",
       "1     (1, 3, 4)           0.273146  \n",
       "2     (1, 2, 4)           0.124479  \n",
       "3     (1, 2, 3)           0.198365  "
      ]
     },
     "execution_count": 4,
     "metadata": {},
     "output_type": "execute_result"
    }
   ],
   "source": [
    "token_shap.plot_colored_text()\n",
    "token_shap.shapley_values\n",
    "df "
   ]
  }
 ],
 "metadata": {
  "kernelspec": {
   "display_name": "medical-llms",
   "language": "python",
   "name": "python3"
  },
  "language_info": {
   "codemirror_mode": {
    "name": "ipython",
    "version": 3
   },
   "file_extension": ".py",
   "mimetype": "text/x-python",
   "name": "python",
   "nbconvert_exporter": "python",
   "pygments_lexer": "ipython3",
   "version": "3.12.9"
  }
 },
 "nbformat": 4,
 "nbformat_minor": 2
}
